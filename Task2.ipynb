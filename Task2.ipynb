{
 "cells": [
  {
   "cell_type": "code",
   "execution_count": 1,
   "metadata": {},
   "outputs": [],
   "source": [
    "import pandas as pd \n",
    "from sklearn.ensemble import RandomForestClassifier\n",
    "from sklearn.model_selection import GridSearchCV\n",
    "import pickle\n",
    "\n",
    "voyages = pd.read_csv(\"voyages.csv\")\n",
    "X = voyages[['begin_port_id']]\n",
    "y = voyages[['end_port_id']]"
   ]
  },
  {
   "cell_type": "code",
   "execution_count": 2,
   "metadata": {},
   "outputs": [
    {
     "name": "stdout",
     "output_type": "stream",
     "text": [
      "Fitting 3 folds for each of 9 candidates, totalling 27 fits\n"
     ]
    },
    {
     "name": "stderr",
     "output_type": "stream",
     "text": [
      "C:\\Users\\Joakim\\AppData\\Roaming\\Python\\Python37\\site-packages\\sklearn\\model_selection\\_split.py:667: UserWarning: The least populated class in y has only 1 members, which is less than n_splits=3.\n",
      "  % (min_groups, self.n_splits)), UserWarning)\n",
      "[Parallel(n_jobs=-1)]: Using backend LokyBackend with 4 concurrent workers.\n",
      "[Parallel(n_jobs=-1)]: Done  27 out of  27 | elapsed:   33.1s finished\n"
     ]
    }
   ],
   "source": [
    "#X_train, X_test, y_train, y_test = train_test_split(X, y, test_size=0.30)\n",
    "\n",
    "n_estimators = [600,800,1000]\n",
    "max_depth = [10,15,20]\n",
    "min_samples_split = [2]\n",
    "min_samples_leaf = [5] \n",
    "\n",
    "\n",
    "hyperF = dict(n_estimators = n_estimators, max_depth = max_depth,  \n",
    "              min_samples_split = min_samples_split, \n",
    "             min_samples_leaf = min_samples_leaf)\n",
    "\n",
    "gridF = GridSearchCV(RandomForestClassifier(), hyperF, cv = 3, verbose = 1,   n_jobs = -1)\n",
    "model = gridF.fit(X, y.values.ravel())"
   ]
  },
  {
   "cell_type": "code",
   "execution_count": 4,
   "metadata": {},
   "outputs": [
    {
     "name": "stdout",
     "output_type": "stream",
     "text": [
      "0.27502921698480715\n"
     ]
    }
   ],
   "source": [
    "print(model.score(X, y))\n",
    "pickle.dump(model, open('model.pkl', 'wb'))"
   ]
  },
  {
   "cell_type": "code",
   "execution_count": 5,
   "metadata": {},
   "outputs": [],
   "source": [
    "predict_list = []\n",
    "\n",
    "for vessel in voyages.drop_duplicates(subset=['vessel'])['vessel'].values:\n",
    "    current_port = voyages[voyages.vessel == vessel].iloc[-1]['end_port_id']\n",
    "    prediction_1 = model.predict([[current_port]])[0]\n",
    "    prediction_2 = model.predict([[prediction_1]])[0]\n",
    "    prediction_3 = model.predict([[prediction_2]])[0]\n",
    "    \n",
    "    predict_list.append({'vessel': vessel, 'begin_port_id': current_port, 'end_port_id': prediction_1, 'voyage': 1})\n",
    "    predict_list.append({'vessel': vessel, 'begin_port_id': prediction_1, 'end_port_id': prediction_2, 'voyage': 2})\n",
    "    predict_list.append({'vessel': vessel, 'begin_port_id': prediction_2, 'end_port_id': prediction_3, 'voyage': 3})\n",
    "    \n",
    "predict = pd.DataFrame(predict_list)"
   ]
  },
  {
   "cell_type": "code",
   "execution_count": 6,
   "metadata": {},
   "outputs": [],
   "source": [
    "predict.to_csv('predict.csv', index=False)\n"
   ]
  },
  {
   "cell_type": "code",
   "execution_count": null,
   "metadata": {},
   "outputs": [],
   "source": []
  }
 ],
 "metadata": {
  "kernelspec": {
   "display_name": "Python 3",
   "language": "python",
   "name": "python3"
  },
  "language_info": {
   "codemirror_mode": {
    "name": "ipython",
    "version": 3
   },
   "file_extension": ".py",
   "mimetype": "text/x-python",
   "name": "python",
   "nbconvert_exporter": "python",
   "pygments_lexer": "ipython3",
   "version": "3.7.1"
  }
 },
 "nbformat": 4,
 "nbformat_minor": 4
}
