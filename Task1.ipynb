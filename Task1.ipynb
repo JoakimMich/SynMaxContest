{
 "cells": [
  {
   "cell_type": "markdown",
   "metadata": {},
   "source": [
    "# Task 1"
   ]
  },
  {
   "cell_type": "code",
   "execution_count": 1,
   "metadata": {},
   "outputs": [],
   "source": [
    "import pandas as pd \n",
    "from math import cos, asin, sqrt, isnan\n",
    "import numpy as np\n",
    "\n",
    "ports = pd.read_csv(\"ports.csv\")\n",
    "\n",
    "tracking = pd.read_csv(\"tracking.csv\").drop_duplicates().sort_values(by='datetime', ascending=True)\n",
    "#.drop_duplicates(subset=['vessel', 'lat', 'long'], keep='first')\n"
   ]
  },
  {
   "cell_type": "code",
   "execution_count": 2,
   "metadata": {},
   "outputs": [],
   "source": [
    "# https://stackoverflow.com/a/41337005\n",
    "\n",
    "def distance(lat1, lon1, lat2, lon2):\n",
    "    p = 0.017453292519943295\n",
    "    hav = 0.5 - cos((lat2-lat1)*p)/2 + cos(lat1*p)*cos(lat2*p) * (1-cos((lon2-lon1)*p)) / 2\n",
    "    return 12742 * asin(sqrt(hav))\n",
    "\n",
    "ports_dict = ports[['lat', 'long']].to_dict('records')\n",
    "\n",
    "def closest_port(data, v, ports):\n",
    "    pos = min(data, key=lambda p: distance(v['lat'],v['long'],p['lat'],p['long']))\n",
    "    dist = distance(pos['lat'], pos['long'], v['lat'], v['long'])\n",
    "    return (ports[(ports.lat == pos['lat']) & (ports.long == pos['long'])]['port'].values[0], dist)\n"
   ]
  },
  {
   "cell_type": "code",
   "execution_count": 3,
   "metadata": {},
   "outputs": [],
   "source": [
    "ports['threshold'] = 10\n",
    "threshold_30 = [173, 98, 149]\n",
    "threshold_15 = [38, 96, 72, 51]\n",
    "\n",
    "ports.loc[ports['port'].isin(threshold_30), 'threshold'] = 30\n",
    "ports.loc[ports['port'].isin(threshold_15), 'threshold'] = 15"
   ]
  },
  {
   "cell_type": "code",
   "execution_count": 4,
   "metadata": {},
   "outputs": [],
   "source": [
    "ports.loc[(ports.port==142), 'lat'] = 30.600600\n",
    "ports.loc[(ports.port==142), 'long'] = 122.104500\n",
    "\n",
    "ports.loc[(ports.port==76), 'lat'] = 21.903937\n",
    "ports.loc[(ports.port==76), 'long'] = 113.216557"
   ]
  },
  {
   "cell_type": "code",
   "execution_count": 5,
   "metadata": {
    "scrolled": false
   },
   "outputs": [
    {
     "data": {
      "text/html": [
       "<div>\n",
       "<style scoped>\n",
       "    .dataframe tbody tr th:only-of-type {\n",
       "        vertical-align: middle;\n",
       "    }\n",
       "\n",
       "    .dataframe tbody tr th {\n",
       "        vertical-align: top;\n",
       "    }\n",
       "\n",
       "    .dataframe thead th {\n",
       "        text-align: right;\n",
       "    }\n",
       "</style>\n",
       "<table border=\"1\" class=\"dataframe\">\n",
       "  <thead>\n",
       "    <tr style=\"text-align: right;\">\n",
       "      <th></th>\n",
       "      <th>vessel</th>\n",
       "      <th>begin_date</th>\n",
       "      <th>end_date</th>\n",
       "      <th>begin_port_id</th>\n",
       "      <th>end_port_id</th>\n",
       "    </tr>\n",
       "  </thead>\n",
       "  <tbody>\n",
       "    <tr>\n",
       "      <th>0</th>\n",
       "      <td>131</td>\n",
       "      <td>2019-01-07 07:59:00</td>\n",
       "      <td>2019-02-14 01:57:00</td>\n",
       "      <td>142</td>\n",
       "      <td>48</td>\n",
       "    </tr>\n",
       "    <tr>\n",
       "      <th>1</th>\n",
       "      <td>131</td>\n",
       "      <td>2019-02-15 01:59:00</td>\n",
       "      <td>2019-03-02 22:07:00</td>\n",
       "      <td>48</td>\n",
       "      <td>69</td>\n",
       "    </tr>\n",
       "    <tr>\n",
       "      <th>2</th>\n",
       "      <td>131</td>\n",
       "      <td>2019-03-04 11:46:00</td>\n",
       "      <td>2019-03-10 01:46:00</td>\n",
       "      <td>69</td>\n",
       "      <td>29</td>\n",
       "    </tr>\n",
       "    <tr>\n",
       "      <th>3</th>\n",
       "      <td>131</td>\n",
       "      <td>2019-03-11 06:37:00</td>\n",
       "      <td>2019-03-20 09:05:00</td>\n",
       "      <td>29</td>\n",
       "      <td>69</td>\n",
       "    </tr>\n",
       "    <tr>\n",
       "      <th>4</th>\n",
       "      <td>131</td>\n",
       "      <td>2019-03-21 21:54:00</td>\n",
       "      <td>2019-04-05 20:38:46</td>\n",
       "      <td>69</td>\n",
       "      <td>11</td>\n",
       "    </tr>\n",
       "    <tr>\n",
       "      <th>...</th>\n",
       "      <td>...</td>\n",
       "      <td>...</td>\n",
       "      <td>...</td>\n",
       "      <td>...</td>\n",
       "      <td>...</td>\n",
       "    </tr>\n",
       "    <tr>\n",
       "      <th>3428</th>\n",
       "      <td>107</td>\n",
       "      <td>2019-10-29 23:52:35</td>\n",
       "      <td>2019-11-09 00:49:44</td>\n",
       "      <td>51</td>\n",
       "      <td>99</td>\n",
       "    </tr>\n",
       "    <tr>\n",
       "      <th>3429</th>\n",
       "      <td>107</td>\n",
       "      <td>2019-11-10 05:32:07</td>\n",
       "      <td>2019-11-18 18:41:10</td>\n",
       "      <td>99</td>\n",
       "      <td>111</td>\n",
       "    </tr>\n",
       "    <tr>\n",
       "      <th>3430</th>\n",
       "      <td>107</td>\n",
       "      <td>2019-11-19 21:54:51</td>\n",
       "      <td>2019-12-01 21:49:30</td>\n",
       "      <td>111</td>\n",
       "      <td>73</td>\n",
       "    </tr>\n",
       "    <tr>\n",
       "      <th>3431</th>\n",
       "      <td>107</td>\n",
       "      <td>2019-12-03 00:54:56</td>\n",
       "      <td>2019-12-11 23:21:49</td>\n",
       "      <td>73</td>\n",
       "      <td>72</td>\n",
       "    </tr>\n",
       "    <tr>\n",
       "      <th>3432</th>\n",
       "      <td>107</td>\n",
       "      <td>2019-12-13 00:46:19</td>\n",
       "      <td>2019-12-21 21:46:06</td>\n",
       "      <td>72</td>\n",
       "      <td>99</td>\n",
       "    </tr>\n",
       "  </tbody>\n",
       "</table>\n",
       "<p>3358 rows × 5 columns</p>\n",
       "</div>"
      ],
      "text/plain": [
       "      vessel           begin_date             end_date  begin_port_id  \\\n",
       "0        131  2019-01-07 07:59:00  2019-02-14 01:57:00            142   \n",
       "1        131  2019-02-15 01:59:00  2019-03-02 22:07:00             48   \n",
       "2        131  2019-03-04 11:46:00  2019-03-10 01:46:00             69   \n",
       "3        131  2019-03-11 06:37:00  2019-03-20 09:05:00             29   \n",
       "4        131  2019-03-21 21:54:00  2019-04-05 20:38:46             69   \n",
       "...      ...                  ...                  ...            ...   \n",
       "3428     107  2019-10-29 23:52:35  2019-11-09 00:49:44             51   \n",
       "3429     107  2019-11-10 05:32:07  2019-11-18 18:41:10             99   \n",
       "3430     107  2019-11-19 21:54:51  2019-12-01 21:49:30            111   \n",
       "3431     107  2019-12-03 00:54:56  2019-12-11 23:21:49             73   \n",
       "3432     107  2019-12-13 00:46:19  2019-12-21 21:46:06             72   \n",
       "\n",
       "      end_port_id  \n",
       "0              48  \n",
       "1              69  \n",
       "2              29  \n",
       "3              69  \n",
       "4              11  \n",
       "...           ...  \n",
       "3428           99  \n",
       "3429          111  \n",
       "3430           73  \n",
       "3431           72  \n",
       "3432           99  \n",
       "\n",
       "[3358 rows x 5 columns]"
      ]
     },
     "execution_count": 5,
     "metadata": {},
     "output_type": "execute_result"
    }
   ],
   "source": [
    "speed_threshold = 1\n",
    "ports_dict = ports[['lat', 'long']].to_dict('records')\n",
    "\n",
    "started_port = 0\n",
    "voyages_list = []\n",
    "end_port_id = 0\n",
    "latest_draft = 0\n",
    "pd.set_option('display.max_rows', 60)\n",
    "\n",
    "debug = []\n",
    "debug_ports = []\n",
    "special_voyages = []\n",
    "\n",
    "for vessel in tracking.drop_duplicates(subset=['vessel'])['vessel'].values:\n",
    "#for vessel in [68]:\n",
    "    to_add = 0\n",
    "    for index, row in tracking[tracking.vessel == vessel].iterrows():\n",
    "        (current_port, closest_dist) = closest_port(ports_dict, {'lat': row['lat'], 'long': row['long']}, ports)\n",
    "        ports_km_threshold = ports[ports.port == current_port]['threshold'].values[0]\n",
    "        debug.append({'vessel': vessel, 'datetime': row['datetime'], 'speed': row['speed'], 'draft': row['draft'], 'closest_dist': closest_dist, 'closest_port': current_port, 'lat': row['lat'], 'long': row['long']})\n",
    "        if started_port == 0 and row['speed'] < speed_threshold:\n",
    "            #record startport\n",
    "            begin_port_id = current_port\n",
    "            if ports_km_threshold > closest_dist:\n",
    "                started_port = 1\n",
    "        elif started_port == 1 and row['speed'] >= speed_threshold:\n",
    "            #record start date \n",
    "            started_port = 2\n",
    "            begin_date = row['datetime']\n",
    "        elif started_port == 2 and row['speed'] < speed_threshold:\n",
    "            #record end date, end port, add to new df\n",
    "            #end_date = row['datetime']\n",
    "            #end_port_id = current_port\n",
    "            if ports_km_threshold > closest_dist:\n",
    "                end_date = row['datetime']\n",
    "                if (pd.to_datetime(end_date) - pd.to_datetime(begin_date)) / pd.Timedelta(hours=1) >= 24:\n",
    "                    end_port_id = current_port\n",
    "                    end_draft = row['draft']\n",
    "                    voyages_list.append({'vessel': vessel, 'begin_date': begin_date, 'end_date': end_date, 'begin_port_id': begin_port_id, 'end_port_id': end_port_id})\n",
    "                    started_port = 0\n",
    "                    if to_add == 1:\n",
    "                        debug_ports.append(dict_to_add)\n",
    "                        to_add = 0\n",
    "                else:\n",
    "                    started_port = 1\n",
    "            elif closest_dist <= 100:\n",
    "                end_date = row['datetime']\n",
    "                dict_to_add = {'vessel': vessel, 'date': end_date, 'lat': row['lat'], 'long': row['long']}\n",
    "                to_add = 1\n",
    "        elif started_port == 0 and row['speed'] >= speed_threshold and end_port_id != 0:\n",
    "            begin_date = row['datetime']\n",
    "            begin_port_id = end_port_id\n",
    "            started_port = 2\n",
    "        elif started_port == 2 and (abs(latest_draft - row['draft']) > 0.5 or (pd.to_datetime(row['datetime']) - pd.to_datetime(latest_date)) / pd.Timedelta(hours=1) > 12) and latest_dist <= latest_threshold:\n",
    "        #elif started_port == 2 and (abs(latest_draft - row['draft']) > 0.5 or (pd.Timedelta(pd.to_datetime(row['datetime']) - pd.to_datetime(latest_date)).seconds / 3600.0) > 12) and latest_dist <= ports_km_threshold:\n",
    "            if ((pd.to_datetime(latest_date) - pd.to_datetime(begin_date)) / pd.Timedelta(hours=1)) > 48:\n",
    "                voyages_list.append({'vessel': vessel, 'begin_date': begin_date, 'end_date': latest_date, 'begin_port_id': begin_port_id, 'end_port_id': latest_port})\n",
    "                special_voyages.append({'vessel': vessel, 'begin_date': begin_date, 'end_date': latest_date, 'begin_port_id': begin_port_id, 'end_port_id': latest_port})\n",
    "                begin_date = row['datetime']\n",
    "                begin_port_id = latest_port\n",
    "                started_port = 2\n",
    "        latest_date = row['datetime']\n",
    "        latest_draft = row['draft']\n",
    "        latest_dist = closest_dist\n",
    "        latest_port = current_port\n",
    "        latest_threshold = ports_km_threshold\n",
    "    started_port = 0\n",
    "    end_port_id = 0\n",
    "voyages = pd.DataFrame(voyages_list)\n",
    "debug = pd.DataFrame(debug)\n",
    "debug_ports = pd.DataFrame(debug_ports)\n",
    "voyages_dup = voyages[voyages['begin_port_id'] == voyages['end_port_id']]\n",
    "voyages = voyages[voyages['begin_port_id'] != voyages['end_port_id']]\n",
    "special_voyages = pd.DataFrame(special_voyages)\n",
    "\n",
    "voyages"
   ]
  },
  {
   "cell_type": "code",
   "execution_count": 18,
   "metadata": {},
   "outputs": [
    {
     "name": "stdout",
     "output_type": "stream",
     "text": [
      "True\n",
      "True\n"
     ]
    }
   ],
   "source": [
    "# Assertions\n",
    "\n",
    "print(len(voyages[voyages.begin_date > voyages.end_date]) == 0)\n",
    "\n",
    "found_error = 0\n",
    "for vessel in voyages.drop_duplicates(subset=['vessel'])['vessel'].values:\n",
    "    prev_port = 0\n",
    "    for index, row in voyages[voyages.vessel == vessel].iterrows():\n",
    "        if prev_port != 0:\n",
    "            if prev_port != row['begin_port_id']:\n",
    "                print(\"Error in index \"+ str(index))\n",
    "                found_error = 1\n",
    "        prev_port = row['end_port_id']\n",
    "print(found_error == 0)"
   ]
  },
  {
   "cell_type": "code",
   "execution_count": 19,
   "metadata": {},
   "outputs": [],
   "source": [
    "voyages.to_csv('voyages.csv', index=False)\n"
   ]
  },
  {
   "cell_type": "code",
   "execution_count": 19,
   "metadata": {},
   "outputs": [
    {
     "data": {
      "text/plain": [
       "172"
      ]
     },
     "execution_count": 19,
     "metadata": {},
     "output_type": "execute_result"
    }
   ],
   "source": [
    "len(voyages.drop_duplicates(subset=['vessel'])['vessel'].values)"
   ]
  },
  {
   "cell_type": "code",
   "execution_count": 117,
   "metadata": {},
   "outputs": [
    {
     "data": {
      "text/plain": [
       "[]"
      ]
     },
     "execution_count": 117,
     "metadata": {},
     "output_type": "execute_result"
    }
   ],
   "source": [
    "#list(set(temp1) - set(temp2))\n",
    "list(set(tracking.drop_duplicates(subset=['vessel'])['vessel'].values) - set(voyages.drop_duplicates(subset=['vessel'])['vessel'].values))"
   ]
  },
  {
   "cell_type": "code",
   "execution_count": null,
   "metadata": {},
   "outputs": [],
   "source": []
  }
 ],
 "metadata": {
  "kernelspec": {
   "display_name": "Python 3",
   "language": "python",
   "name": "python3"
  },
  "language_info": {
   "codemirror_mode": {
    "name": "ipython",
    "version": 3
   },
   "file_extension": ".py",
   "mimetype": "text/x-python",
   "name": "python",
   "nbconvert_exporter": "python",
   "pygments_lexer": "ipython3",
   "version": "3.7.0"
  }
 },
 "nbformat": 4,
 "nbformat_minor": 4
}
