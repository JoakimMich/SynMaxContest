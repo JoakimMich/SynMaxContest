{
 "cells": [
  {
   "cell_type": "markdown",
   "metadata": {},
   "source": [
    "# Task 1"
   ]
  },
  {
   "cell_type": "code",
   "execution_count": 68,
   "metadata": {},
   "outputs": [],
   "source": [
    "import pandas as pd \n",
    "from math import cos, asin, sqrt\n",
    "\n",
    "ports = pd.read_csv(\"ports.csv\")\n",
    "\n",
    "tracking = pd.read_csv(\"tracking.csv\").drop_duplicates().sort_values(by='datetime', ascending=True).drop_duplicates(subset=['vessel', 'lat', 'long'], keep='first')\n"
   ]
  },
  {
   "cell_type": "code",
   "execution_count": 94,
   "metadata": {},
   "outputs": [],
   "source": [
    "# https://stackoverflow.com/a/41337005\n",
    "\n",
    "def distance(lat1, lon1, lat2, lon2):\n",
    "    p = 0.017453292519943295\n",
    "    hav = 0.5 - cos((lat2-lat1)*p)/2 + cos(lat1*p)*cos(lat2*p) * (1-cos((lon2-lon1)*p)) / 2\n",
    "    return 12742 * asin(sqrt(hav))\n",
    "\n",
    "def closest_port(data, v, ports):\n",
    "    pos = min(data, key=lambda p: distance(v['lat'],v['long'],p['lat'],p['long']))\n",
    "    dist = distance(pos['lat'], pos['long'], v['lat'], v['long'])\n",
    "    return (ports[(ports.lat == pos['lat']) & (ports.long == pos['long'])]['port'].values[0], dist)\n"
   ]
  },
  {
   "cell_type": "code",
   "execution_count": 107,
   "metadata": {},
   "outputs": [],
   "source": [
    "speed_threshold = 1\n",
    "ports_dict = ports[['lat', 'long']].to_dict('records')\n",
    "ports_km_threshold = 3\n",
    "\n",
    "started_port = 0\n",
    "voyages_list = []\n",
    "\n",
    "for vessel in tracking.drop_duplicates(subset=['vessel'])['vessel'].values:\n",
    "    for index, row in tracking[tracking.vessel == vessel].iterrows():\n",
    "        if started_port == 0 and row['speed'] < speed_threshold:\n",
    "            #record startport\n",
    "            started_port = 1\n",
    "            (begin_port_id, _) = closest_port(ports_dict, {'lat': row['lat'], 'long': row['long']}, ports)\n",
    "        elif started_port == 1 and row['speed'] > speed_threshold:\n",
    "            #record start date \n",
    "            started_port = 2\n",
    "            begin_date = row['datetime']\n",
    "        elif started_port == 2 and row['speed'] < speed_threshold:\n",
    "            #record end date, end port, add to new df\n",
    "            end_date = row['datetime']\n",
    "            (end_port_id, closest_dist) = closest_port(ports_dict, {'lat': row['lat'], 'long': row['long']}, ports)\n",
    "            if ports_km_threshold > closest_dist:\n",
    "                voyages_list.append({'vessel': vessel, 'begin_date': begin_date, 'end_date': end_date, 'begin_port_id': begin_port_id, 'end_port_id': end_port_id})\n",
    "                started_port = 0\n",
    "voyages = pd.DataFrame(voyages_list)\n",
    "voyages = voyages[voyages['begin_port_id'] != voyages['end_port_id']]"
   ]
  },
  {
   "cell_type": "code",
   "execution_count": 123,
   "metadata": {},
   "outputs": [],
   "source": [
    "voyages.to_csv('voyages.csv', index=False)\n"
   ]
  },
  {
   "cell_type": "code",
   "execution_count": null,
   "metadata": {},
   "outputs": [],
   "source": []
  }
 ],
 "metadata": {
  "kernelspec": {
   "display_name": "Python 3",
   "language": "python",
   "name": "python3"
  },
  "language_info": {
   "codemirror_mode": {
    "name": "ipython",
    "version": 3
   },
   "file_extension": ".py",
   "mimetype": "text/x-python",
   "name": "python",
   "nbconvert_exporter": "python",
   "pygments_lexer": "ipython3",
   "version": "3.7.1"
  }
 },
 "nbformat": 4,
 "nbformat_minor": 4
}
